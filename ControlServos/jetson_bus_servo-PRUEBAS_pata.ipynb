{
 "cells": [
  {
   "cell_type": "code",
   "execution_count": 2,
   "metadata": {
    "scrolled": true
   },
   "outputs": [
    {
     "name": "stdout",
     "output_type": "stream",
     "text": [
      "WARNING: pip is being invoked by an old script wrapper. This will fail in a future version of pip.\n",
      "Please see https://github.com/pypa/pip/issues/5599 for advice on fixing the underlying issue.\n",
      "To avoid this problem you can invoke Python with '-m pip' instead of running pip directly.\n",
      "Defaulting to user installation because normal site-packages is not writeable\n",
      "Requirement already satisfied: pyserial in /home/hexapod/.local/lib/python3.6/site-packages (3.5)\n"
     ]
    }
   ],
   "source": [
    "# import libraries\n",
    "!pip3 install pyserial\n",
    "\n",
    "import RPi.GPIO as GPIO\n",
    "import time\n",
    "import string\n",
    "import serial\n"
   ]
  },
  {
   "cell_type": "code",
   "execution_count": 3,
   "metadata": {},
   "outputs": [],
   "source": [
    "#Set GPIO pins to BCM encoding mode\n",
    "GPIO.setmode(GPIO.BCM)\n",
    "\n",
    "#Ignore warning messages\n",
    "GPIO.setwarnings(False)"
   ]
  },
  {
   "cell_type": "code",
   "execution_count": 4,
   "metadata": {},
   "outputs": [],
   "source": [
    "#Initialize the serial port. If permission issues arise, please open the system terminal and run\n",
    "#commands to obtain permissions.\n",
    "\n",
    "# sudo chmod 777 /dev/ttyTHS1\n",
    "ser = serial.Serial(\"/dev/ttyTHS1\", 115200, timeout = .01)\n",
    "#print(\"serial.isOpen()\")"
   ]
  },
  {
   "cell_type": "code",
   "execution_count": 5,
   "metadata": {},
   "outputs": [],
   "source": [
    "#Control servo, where index is the ID number of the servo,\n",
    "#value is the position of the servo, and s_time is the operating time of the servo.\n",
    "\n",
    "def Servo_control(index, value, s_time):\n",
    "    pack1 = 0xff\n",
    "    pack2 = 0xff\n",
    "    id = index & 0xff\n",
    "    len = 0x07\n",
    "    cmd = 0x03\n",
    "    addr = 0x2A\n",
    "    pos1 = (value >> 8) & 0x00ff\n",
    "    pos2 =  value & 0x00ff \n",
    "    time1 = (s_time >> 8) & 0x00ff\n",
    "    time2 = s_time & 0x00ff\n",
    "    checknum = (~(id + len + cmd + addr + pos1 + pos2 + time1 + time2)) & 0xff\n",
    "\n",
    "    data = [pack1, pack2, id, len, cmd, addr, pos1, pos2, time1, time2, checknum]\n",
    "#     print(bytes(data))\n",
    "    ser.write(bytes(data))\n"
   ]
  },
  {
   "cell_type": "markdown",
   "metadata": {},
   "source": [
    "## Control individual motor A \n",
    "\n"
   ]
  },
  {
   "cell_type": "code",
   "execution_count": 31,
   "metadata": {
    "scrolled": true
   },
   "outputs": [
    {
     "name": "stdout",
     "output_type": "stream",
     "text": [
      "WARNING: pip is being invoked by an old script wrapper. This will fail in a future version of pip.\n",
      "Please see https://github.com/pypa/pip/issues/5599 for advice on fixing the underlying issue.\n",
      "To avoid this problem you can invoke Python with '-m pip' instead of running pip directly.\n",
      "Defaulting to user installation because normal site-packages is not writeable\n",
      "Requirement already satisfied: pyserial in /home/hexapod/.local/lib/python3.6/site-packages (3.5)\n"
     ]
    },
    {
     "ename": "KeyboardInterrupt",
     "evalue": "",
     "output_type": "error",
     "traceback": [
      "\u001b[0;31m---------------------------------------------------------------------------\u001b[0m",
      "\u001b[0;31mKeyboardInterrupt\u001b[0m                         Traceback (most recent call last)",
      "\u001b[0;32m<ipython-input-31-c17d3ceded55>\u001b[0m in \u001b[0;36m<module>\u001b[0;34m()\u001b[0m\n\u001b[1;32m     18\u001b[0m \u001b[0;34m\u001b[0m\u001b[0m\n\u001b[1;32m     19\u001b[0m         \u001b[0mServo_control\u001b[0m\u001b[0;34m(\u001b[0m\u001b[0;36m0x01\u001b[0m\u001b[0;34m,\u001b[0m \u001b[0;36m900\u001b[0m\u001b[0;34m,\u001b[0m \u001b[0;36m1000\u001b[0m\u001b[0;34m)\u001b[0m \u001b[0;31m# gira a la izquierda 180°\u001b[0m\u001b[0;34m\u001b[0m\u001b[0;34m\u001b[0m\u001b[0m\n\u001b[0;32m---> 20\u001b[0;31m         \u001b[0mtime\u001b[0m\u001b[0;34m.\u001b[0m\u001b[0msleep\u001b[0m\u001b[0;34m(\u001b[0m\u001b[0;36m2\u001b[0m\u001b[0;34m)\u001b[0m\u001b[0;34m\u001b[0m\u001b[0;34m\u001b[0m\u001b[0m\n\u001b[0m\u001b[1;32m     21\u001b[0m \u001b[0;34m\u001b[0m\u001b[0m\n\u001b[1;32m     22\u001b[0m \u001b[0;34m\u001b[0m\u001b[0m\n",
      "\u001b[0;31mKeyboardInterrupt\u001b[0m: "
     ]
    }
   ],
   "source": [
    "# import libraries\n",
    "!pip3 install pyserial\n",
    "\n",
    "import RPi.GPIO as GPIO\n",
    "import time\n",
    "import string\n",
    "import serial\n",
    "\n",
    "\n",
    "while True:\n",
    "    \n",
    "     \n",
    "        Servo_control(0x01, 3150, 1000) # va a la derecha 0°\n",
    "        time.sleep(2)\n",
    "        \n",
    "        Servo_control(0x01, 2100, 1000) #pata en el centro 90°\n",
    "        time.sleep(3)\n",
    "        \n",
    "        Servo_control(0x01, 900, 1000) # gira a la izquierda 180°\n",
    "        time.sleep(2)\n",
    "        \n",
    "        \n",
    "      "
   ]
  },
  {
   "cell_type": "markdown",
   "metadata": {},
   "source": [
    "## Control limites motor B"
   ]
  },
  {
   "cell_type": "code",
   "execution_count": null,
   "metadata": {},
   "outputs": [],
   "source": [
    "# import libraries\n",
    "!pip3 install pyserial\n",
    "\n",
    "import RPi.GPIO as GPIO\n",
    "import time\n",
    "import string\n",
    "import serial\n",
    "\n",
    "\n",
    "while True:\n",
    "    \n",
    "    \n",
    "        Servo_control(0x02, 3600, 1000) # pata maximo arriba\n",
    "        time.sleep(2)    \n",
    "    \n",
    "        Servo_control(0x02, 3150, 1000) # pata arriba 0°\n",
    "        time.sleep(2)\n",
    "        \n",
    "        Servo_control(0x02, 2100, 1000) # pata extendida 90°\n",
    "        time.sleep(2) \n",
    "        \n",
    "        Servo_control(0x02, 900, 1000) # pata abajo 180°\n",
    "        time.sleep(3)\n",
    "        \n",
    "        Servo_control(0x02, 500, 1000) # pata maximo abajo\n",
    "        time.sleep(2) \n",
    "    "
   ]
  },
  {
   "cell_type": "markdown",
   "metadata": {},
   "source": [
    "## Control limites motor C "
   ]
  },
  {
   "cell_type": "code",
   "execution_count": 19,
   "metadata": {},
   "outputs": [
    {
     "name": "stdout",
     "output_type": "stream",
     "text": [
      "WARNING: pip is being invoked by an old script wrapper. This will fail in a future version of pip.\n",
      "Please see https://github.com/pypa/pip/issues/5599 for advice on fixing the underlying issue.\n",
      "To avoid this problem you can invoke Python with '-m pip' instead of running pip directly.\n",
      "Defaulting to user installation because normal site-packages is not writeable\n",
      "Requirement already satisfied: pyserial in /home/hexapod/.local/lib/python3.6/site-packages (3.5)\n"
     ]
    },
    {
     "ename": "KeyboardInterrupt",
     "evalue": "",
     "output_type": "error",
     "traceback": [
      "\u001b[0;31m---------------------------------------------------------------------------\u001b[0m",
      "\u001b[0;31mKeyboardInterrupt\u001b[0m                         Traceback (most recent call last)",
      "\u001b[0;32m<ipython-input-19-262fe1f48ce4>\u001b[0m in \u001b[0;36m<module>\u001b[0;34m()\u001b[0m\n\u001b[1;32m     15\u001b[0m \u001b[0;34m\u001b[0m\u001b[0m\n\u001b[1;32m     16\u001b[0m         \u001b[0mServo_control\u001b[0m\u001b[0;34m(\u001b[0m\u001b[0;36m0x03\u001b[0m\u001b[0;34m,\u001b[0m \u001b[0;36m2100\u001b[0m\u001b[0;34m,\u001b[0m \u001b[0;36m1000\u001b[0m\u001b[0;34m)\u001b[0m \u001b[0;31m# garra neutral\u001b[0m\u001b[0;34m\u001b[0m\u001b[0;34m\u001b[0m\u001b[0m\n\u001b[0;32m---> 17\u001b[0;31m         \u001b[0mtime\u001b[0m\u001b[0;34m.\u001b[0m\u001b[0msleep\u001b[0m\u001b[0;34m(\u001b[0m\u001b[0;36m2\u001b[0m\u001b[0;34m)\u001b[0m\u001b[0;34m\u001b[0m\u001b[0;34m\u001b[0m\u001b[0m\n\u001b[0m\u001b[1;32m     18\u001b[0m \u001b[0;34m\u001b[0m\u001b[0m\n\u001b[1;32m     19\u001b[0m         \u001b[0mServo_control\u001b[0m\u001b[0;34m(\u001b[0m\u001b[0;36m0x03\u001b[0m\u001b[0;34m,\u001b[0m \u001b[0;36m3150\u001b[0m\u001b[0;34m,\u001b[0m \u001b[0;36m1000\u001b[0m\u001b[0;34m)\u001b[0m \u001b[0;31m#garra extendida\u001b[0m\u001b[0;34m\u001b[0m\u001b[0;34m\u001b[0m\u001b[0m\n",
      "\u001b[0;31mKeyboardInterrupt\u001b[0m: "
     ]
    }
   ],
   "source": [
    "# import libraries\n",
    "!pip3 install pyserial\n",
    "\n",
    "import RPi.GPIO as GPIO\n",
    "import time\n",
    "import string\n",
    "import serial\n",
    "\n",
    "\n",
    "while True:\n",
    "    \n",
    "       \n",
    "        Servo_control(0x03, 800, 1000) # garra doblada abajo maximo\n",
    "        time.sleep(2)\n",
    "        \n",
    "        Servo_control(0x03, 900, 1000) # garra doblada abajo 180°\n",
    "        time.sleep(2)\n",
    "        \n",
    "        Servo_control(0x03, 2100, 1000) # garra neutral 90°\n",
    "        time.sleep(2)\n",
    "        \n",
    "        Servo_control(0x03, 3150, 1000) #garra extendida 0°\n",
    "        time.sleep(2)\n",
    "        \n",
    "        Servo_control(0x03, 3650, 1000) # garra arriba maximo\n",
    "        time.sleep(2)\n",
    "        \n",
    "    "
   ]
  },
  {
   "cell_type": "code",
   "execution_count": 36,
   "metadata": {},
   "outputs": [
    {
     "ename": "NameError",
     "evalue": "name 'main' is not defined",
     "output_type": "error",
     "traceback": [
      "\u001b[0;31m---------------------------------------------------------------------------\u001b[0m",
      "\u001b[0;31mNameError\u001b[0m                                 Traceback (most recent call last)",
      "\u001b[0;32m<ipython-input-36-c7e3059d85d0>\u001b[0m in \u001b[0;36m<module>\u001b[0;34m()\u001b[0m\n\u001b[1;32m      1\u001b[0m \u001b[0;32mtry\u001b[0m\u001b[0;34m:\u001b[0m\u001b[0;34m\u001b[0m\u001b[0;34m\u001b[0m\u001b[0m\n\u001b[0;32m----> 2\u001b[0;31m     \u001b[0mmain\u001b[0m\u001b[0;34m(\u001b[0m\u001b[0;34m)\u001b[0m\u001b[0;34m\u001b[0m\u001b[0;34m\u001b[0m\u001b[0m\n\u001b[0m\u001b[1;32m      3\u001b[0m \u001b[0;32mexcept\u001b[0m \u001b[0mKeyboardInterrupt\u001b[0m\u001b[0;34m:\u001b[0m\u001b[0;34m\u001b[0m\u001b[0;34m\u001b[0m\u001b[0m\n\u001b[1;32m      4\u001b[0m     \u001b[0;32mpass\u001b[0m\u001b[0;34m\u001b[0m\u001b[0;34m\u001b[0m\u001b[0m\n\u001b[1;32m      5\u001b[0m \u001b[0;34m\u001b[0m\u001b[0m\n",
      "\u001b[0;31mNameError\u001b[0m: name 'main' is not defined"
     ]
    }
   ],
   "source": [
    "try:\n",
    "    main()\n",
    "except KeyboardInterrupt:\n",
    "    pass\n",
    "\n",
    "ser.close()\n",
    "GPIO.cleanup()"
   ]
  },
  {
   "cell_type": "code",
   "execution_count": null,
   "metadata": {},
   "outputs": [],
   "source": []
  }
 ],
 "metadata": {
  "kernelspec": {
   "display_name": "Python 3",
   "language": "python",
   "name": "python3"
  },
  "language_info": {
   "codemirror_mode": {
    "name": "ipython",
    "version": 3
   },
   "file_extension": ".py",
   "mimetype": "text/x-python",
   "name": "python",
   "nbconvert_exporter": "python",
   "pygments_lexer": "ipython3",
   "version": "3.6.9"
  }
 },
 "nbformat": 4,
 "nbformat_minor": 4
}
