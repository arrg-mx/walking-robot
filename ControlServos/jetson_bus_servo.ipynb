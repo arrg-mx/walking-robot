{
 "cells": [
  {
   "cell_type": "code",
   "execution_count": 1,
   "metadata": {
    "scrolled": true
   },
   "outputs": [
    {
     "name": "stdout",
     "output_type": "stream",
     "text": [
      "Collecting pyserial\n",
      "  Using cached https://files.pythonhosted.org/packages/07/bc/587a445451b253b285629263eb51c2d8e9bcea4fc97826266d186f96f558/pyserial-3.5-py2.py3-none-any.whl\n",
      "Installing collected packages: pyserial\n",
      "Successfully installed pyserial-3.5\n"
     ]
    }
   ],
   "source": [
    "# import libraries\n",
    "!pip3 install pyserial\n",
    "\n",
    "import RPi.GPIO as GPIO\n",
    "import time\n",
    "import string\n",
    "import serial\n"
   ]
  },
  {
   "cell_type": "code",
   "execution_count": 2,
   "metadata": {},
   "outputs": [],
   "source": [
    "#Set GPIO pins to BCM encoding mode\n",
    "GPIO.setmode(GPIO.BCM)\n",
    "\n",
    "#Ignore warning messages\n",
    "GPIO.setwarnings(False)"
   ]
  },
  {
   "cell_type": "code",
   "execution_count": 3,
   "metadata": {},
   "outputs": [],
   "source": [
    "#Initialize the serial port. If permission issues arise, please open the system terminal and run\n",
    "#commands to obtain permissions.\n",
    "\n",
    "# sudo chmod 777 /dev/ttyTHS1\n",
    "ser = serial.Serial(\"/dev/ttyTHS1\", 115200, timeout = .01)\n",
    "#print(\"serial.isOpen()\")"
   ]
  },
  {
   "cell_type": "code",
   "execution_count": 4,
   "metadata": {},
   "outputs": [],
   "source": [
    "#Control servo, where index is the ID number of the servo,\n",
    "#value is the position of the servo, and s_time is the operating time of the servo.\n",
    "\n",
    "def Servo_control(index, value, s_time):\n",
    "    pack1 = 0xff\n",
    "    pack2 = 0xff\n",
    "    id = index & 0xff\n",
    "    len = 0x07\n",
    "    cmd = 0x03\n",
    "    addr = 0x2A\n",
    "    pos1 = (value >> 8) & 0x00ff\n",
    "    pos2 =  value & 0x00ff \n",
    "    time1 = (s_time >> 8) & 0x00ff\n",
    "    time2 = s_time & 0x00ff\n",
    "    checknum = (~(id + len + cmd + addr + pos1 + pos2 + time1 + time2)) & 0xff\n",
    "\n",
    "    data = [pack1, pack2, id, len, cmd, addr, pos1, pos2, time1, time2, checknum]\n",
    "#     print(bytes(data))\n",
    "    ser.write(bytes(data))\n"
   ]
  },
  {
   "cell_type": "code",
   "execution_count": 5,
   "metadata": {},
   "outputs": [],
   "source": [
    "# set servo ID number\n",
    "def Servo_Set_ID(index):\n",
    "    if index < 1 or index > 250:\n",
    "        return None\n",
    "    \n",
    "    pack1 = 0xff\n",
    "    pack2 = 0xff\n",
    "    id = 0xfe\n",
    "    len = 0x04\n",
    "    cmd = 0x03\n",
    "    addr = 0x05\n",
    "    set_id = index & 0xff\n",
    "\n",
    "    checknum = (~(id + len + cmd + addr + set_id)) & 0xff\n",
    "\n",
    "    data = [pack1, pack2, id, len, cmd, addr, set_id, checknum]\n",
    "#     print(bytes(data))\n",
    "    ser.write(bytes(data))"
   ]
  },
  {
   "cell_type": "code",
   "execution_count": 6,
   "metadata": {},
   "outputs": [],
   "source": [
    "def main():\n",
    "    index = 0x01\n",
    "    \n",
    "    Servo_Set_ID(index)\n",
    "    time.sleep(.1)\n",
    "    \n",
    "    \n",
    "    while True:\n",
    "        Servo_control(index, 3100, 1000)\n",
    "        time.sleep(2)\n",
    "        Servo_control(index, 900, 1000)\n",
    "        time.sleep(2)"
   ]
  },
  {
   "cell_type": "code",
   "execution_count": 7,
   "metadata": {},
   "outputs": [],
   "source": [
    "try:\n",
    "    main()\n",
    "except KeyboardInterrupt:\n",
    "    pass\n",
    "\n",
    "ser.close()\n",
    "GPIO.cleanup()"
   ]
  },
  {
   "cell_type": "code",
   "execution_count": null,
   "metadata": {},
   "outputs": [],
   "source": []
  },
  {
   "cell_type": "code",
   "execution_count": null,
   "metadata": {},
   "outputs": [],
   "source": []
  }
 ],
 "metadata": {
  "kernelspec": {
   "display_name": "Python 3",
   "language": "python",
   "name": "python3"
  },
  "language_info": {
   "codemirror_mode": {
    "name": "ipython",
    "version": 3
   },
   "file_extension": ".py",
   "mimetype": "text/x-python",
   "name": "python",
   "nbconvert_exporter": "python",
   "pygments_lexer": "ipython3",
   "version": "3.6.9"
  }
 },
 "nbformat": 4,
 "nbformat_minor": 4
}
