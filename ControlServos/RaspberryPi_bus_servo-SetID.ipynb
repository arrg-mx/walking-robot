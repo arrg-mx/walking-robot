{
 "cells": [
  {
   "cell_type": "code",
   "execution_count": null,
   "id": "e579eb17",
   "metadata": {},
   "outputs": [],
   "source": [
    "# -*- coding:UTF-8 -*-\n",
    "import RPi.GPIO as GPIO\n",
    "import time\n",
    "import string\n",
    "import serial\n",
    "\n",
    "\n",
    "global ser\n",
    "\n",
    "# Set GPIO port to BCM coding mode\n",
    "GPIO.setmode(GPIO.BCM)\n",
    "\n",
    "# Ignore the warning message\n",
    "GPIO.setwarnings(False)"
   ]
  },
  {
   "cell_type": "code",
   "execution_count": null,
   "id": "4ba03918",
   "metadata": {},
   "outputs": [],
   "source": [
    "# Control the servo, index is the ID number of the servo, \n",
    "# value is the position of the servo, s_time is the running time of the servo\n",
    "def Servo_control(index, value, s_time):\n",
    "    pack1 = 0xff\n",
    "    pack2 = 0xff\n",
    "    id = index & 0xff\n",
    "    len = 0x07\n",
    "    cmd = 0x03\n",
    "    addr = 0x2A\n",
    "    pos1 = (value >> 8) & 0x00ff\n",
    "    pos2 = value & 0x00ff\n",
    "    time1 = (s_time >> 8) & 0x00ff\n",
    "    time2 = s_time & 0x00ff\n",
    "    checknum = (~(id + len + cmd + addr + pos1 + pos2 + time1 + time2)) & 0xff\n",
    "\n",
    "    data = [pack1, pack2, id, len, cmd, addr,\n",
    "            pos1, pos2, time1, time2, checknum]\n",
    "    ser.write(bytes(data))\n"
   ]
  },
  {
   "cell_type": "code",
   "execution_count": null,
   "id": "e6a539cf",
   "metadata": {},
   "outputs": [],
   "source": [
    "\n",
    "# Set servo ID\n",
    "def Servo_Set_ID(index):\n",
    "    if index < 1 or index > 250:\n",
    "        return None\n",
    "\n",
    "    pack1 = 0xff\n",
    "    pack2 = 0xff\n",
    "    id = 0xfe\n",
    "    len = 0x04\n",
    "    cmd = 0x03\n",
    "    addr = 0x05\n",
    "    set_id = index & 0xff\n",
    "\n",
    "    checknum = (~(id + len + cmd + addr + set_id)) & 0xff\n",
    "\n",
    "    data = [pack1, pack2, id, len, cmd, addr, set_id, checknum]\n",
    "    ser.write(bytes(data))\n"
   ]
  },
  {
   "cell_type": "code",
   "execution_count": null,
   "id": "e994590b",
   "metadata": {},
   "outputs": [],
   "source": [
    "\n",
    "try:\n",
    "    ser = serial.Serial(\"/dev/ttyS0\", 115200, timeout=0.001)\n",
    "    print (\"serial.isOpen()\")\n",
    "    index = 0x01\n",
    "    Servo_Set_ID(index)\n",
    "    time.sleep(.01)\n",
    "\n",
    "    while True:\n",
    "        Servo_control(index, 3100, 1000)\n",
    "        time.sleep(2)\n",
    "        Servo_control(index, 900, 1000)\n",
    "        time.sleep(2)\n",
    "\n",
    "except KeyboardInterrupt:\n",
    "    pass\n",
    "ser.close()\n",
    "GPIO.cleanup()"
   ]
  }
 ],
 "metadata": {
  "kernelspec": {
   "display_name": "Python 3 (ipykernel)",
   "language": "python",
   "name": "python3"
  },
  "language_info": {
   "codemirror_mode": {
    "name": "ipython",
    "version": 3
   },
   "file_extension": ".py",
   "mimetype": "text/x-python",
   "name": "python",
   "nbconvert_exporter": "python",
   "pygments_lexer": "ipython3",
   "version": "3.11.2"
  }
 },
 "nbformat": 4,
 "nbformat_minor": 5
}
