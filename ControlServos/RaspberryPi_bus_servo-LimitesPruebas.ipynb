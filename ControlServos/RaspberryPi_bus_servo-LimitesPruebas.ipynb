{
 "cells": [
  {
   "cell_type": "markdown",
   "id": "51d7e977",
   "metadata": {},
   "source": [
    "sudo chmod 777 /dev/ttyAMA0"
   ]
  },
  {
   "cell_type": "code",
   "execution_count": 31,
   "id": "e579eb17",
   "metadata": {},
   "outputs": [],
   "source": [
    "# -*- coding:UTF-8 -*-\n",
    "import RPi.GPIO as GPIO\n",
    "import time\n",
    "import string\n",
    "import serial\n",
    "\n",
    "\n",
    "global ser\n",
    "\n",
    "# Set GPIO port to BCM coding mode\n",
    "GPIO.setmode(GPIO.BCM)\n",
    "\n",
    "# Ignore the warning message\n",
    "GPIO.setwarnings(False)"
   ]
  },
  {
   "cell_type": "code",
   "execution_count": 32,
   "id": "4ba03918",
   "metadata": {},
   "outputs": [],
   "source": [
    "# Control the servo, index is the ID number of the servo, \n",
    "# value is the position of the servo, s_time is the running time of the servo\n",
    "def Servo_control(index, value, s_time):\n",
    "    pack1 = 0xff\n",
    "    pack2 = 0xff\n",
    "    id = index & 0xff\n",
    "    len = 0x07\n",
    "    cmd = 0x03\n",
    "    addr = 0x2A\n",
    "    pos1 = (value >> 8) & 0x00ff\n",
    "    pos2 = value & 0x00ff\n",
    "    time1 = (s_time >> 8) & 0x00ff\n",
    "    time2 = s_time & 0x00ff\n",
    "    checknum = (~(id + len + cmd + addr + pos1 + pos2 + time1 + time2)) & 0xff\n",
    "\n",
    "    data = [pack1, pack2, id, len, cmd, addr,\n",
    "            pos1, pos2, time1, time2, checknum]\n",
    "    ser.write(bytes(data))\n"
   ]
  },
  {
   "cell_type": "markdown",
   "id": "1fd75ed3",
   "metadata": {},
   "source": [
    "## Control Pata motor A (Límites)"
   ]
  },
  {
   "cell_type": "code",
   "execution_count": 97,
   "id": "e994590b",
   "metadata": {},
   "outputs": [
    {
     "name": "stdout",
     "output_type": "stream",
     "text": [
      "serial.isOpen()\n"
     ]
    }
   ],
   "source": [
    "\n",
    "try:\n",
    "    ser = serial.Serial(\"/dev/ttyAMA0\", 115200, timeout=0.001)\n",
    "    print (\"serial.isOpen()\")\n",
    "    time.sleep(.01)\n",
    "\n",
    "    while True:\n",
    "        \n",
    "     \n",
    "        \n",
    "   \n",
    "        Servo_control(0x01, 0, 1000) #pata GIRO IZQ 90° CERO\n",
    "        time.sleep(3)\n",
    "        \n",
    "        Servo_control(0x01, 1500, 1000) # PATA CENTRO\n",
    "        time.sleep(7)\n",
    "        \n",
    "        \n",
    "        \n",
    "        Servo_control(0x01, 2300, 1000) # PATA GIRO DER\n",
    "        time.sleep(1)\n",
    "        \n",
    "        \n",
    "        \n",
    "\n",
    "\n",
    "except KeyboardInterrupt:\n",
    "    pass\n",
    "ser.close()\n",
    "GPIO.cleanup()"
   ]
  },
  {
   "cell_type": "markdown",
   "id": "407a4a54",
   "metadata": {},
   "source": [
    "## Control Pata motor B (Límites)"
   ]
  },
  {
   "cell_type": "code",
   "execution_count": 64,
   "id": "03665e7a",
   "metadata": {},
   "outputs": [
    {
     "name": "stdout",
     "output_type": "stream",
     "text": [
      "serial.isOpen()\n"
     ]
    }
   ],
   "source": [
    "\n",
    "try:\n",
    "    ser = serial.Serial(\"/dev/ttyAMA0\", 115200, timeout=0.001)\n",
    "    print (\"serial.isOpen()\")\n",
    "    index = 0x02\n",
    "\n",
    "    time.sleep(.01)\n",
    "\n",
    "    while True:\n",
    "            \n",
    "      \n",
    "        Servo_control(0x02, 0, 1000) #pata abajo  CERO\n",
    "        time.sleep(7)\n",
    "        \n",
    "              \n",
    "        Servo_control(0x02, 1200, 1000) #pata neutral\n",
    "        time.sleep(2)\n",
    "          \n",
    "      \n",
    "\n",
    "            \n",
    "        Servo_control(0x02, 3100, 1000) #pata arriba\n",
    "        time.sleep(3)\n",
    "         \n",
    "        \n",
    "\n",
    "\n",
    "except KeyboardInterrupt:\n",
    "    pass\n",
    "ser.close()\n",
    "GPIO.cleanup()"
   ]
  },
  {
   "cell_type": "markdown",
   "id": "429c8a78",
   "metadata": {},
   "source": [
    "## Control Pata motor C (Límites)"
   ]
  },
  {
   "cell_type": "code",
   "execution_count": 81,
   "id": "e6c45686",
   "metadata": {},
   "outputs": [
    {
     "name": "stdout",
     "output_type": "stream",
     "text": [
      "serial.isOpen()\n"
     ]
    }
   ],
   "source": [
    "\n",
    "try:\n",
    "    ser = serial.Serial(\"/dev/ttyAMA0\", 115200, timeout=0.001)\n",
    "    print (\"serial.isOpen()\")\n",
    "    index = 0x03\n",
    "    time.sleep(.01)\n",
    "\n",
    "    while True:\n",
    "        \n",
    "        \n",
    "        Servo_control(0x03, 0, 1000) # garra abajo enroscada  CERO \n",
    "        time.sleep(3)\n",
    "        \n",
    "        \n",
    "            \n",
    "        Servo_control(0x03, 1300, 1000) # garra neutral\n",
    "        time.sleep(5)\n",
    "        \n",
    "   \n",
    "        Servo_control(0x03, 2800, 1000) #garra  arriba\n",
    "        \n",
    "        \n",
    "        time.sleep(2)\n",
    "\n",
    "except KeyboardInterrupt:\n",
    "    pass\n",
    "ser.close()\n",
    "GPIO.cleanup()"
   ]
  },
  {
   "cell_type": "code",
   "execution_count": null,
   "id": "f9f8815b",
   "metadata": {},
   "outputs": [],
   "source": []
  },
  {
   "cell_type": "code",
   "execution_count": null,
   "id": "f5cfcffb",
   "metadata": {},
   "outputs": [],
   "source": []
  }
 ],
 "metadata": {
  "kernelspec": {
   "display_name": "Python 3 (ipykernel)",
   "language": "python",
   "name": "python3"
  },
  "language_info": {
   "codemirror_mode": {
    "name": "ipython",
    "version": 3
   },
   "file_extension": ".py",
   "mimetype": "text/x-python",
   "name": "python",
   "nbconvert_exporter": "python",
   "pygments_lexer": "ipython3",
   "version": "3.11.2"
  }
 },
 "nbformat": 4,
 "nbformat_minor": 5
}
